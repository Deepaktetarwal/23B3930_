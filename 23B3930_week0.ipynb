{
  "cells": [
    {
      "cell_type": "markdown",
      "metadata": {
        "id": "0q8CIlBHRxKv"
      },
      "source": [
        "# **Week 0 : Introduction to Python**\n",
        "In this assignment, we shall be providing a class template where you have to fill code in indicated areas. Let's get started!\n"
      ]
    },
    {
      "cell_type": "markdown",
      "metadata": {
        "id": "m4b3tHfuTOrh"
      },
      "source": [
        "<img src=\"https://www.python.org/static/community_logos/python-logo-master-v3-TM.png\"\n",
        " style=\"float:right;width:50px;height:50px;\">"
      ]
    },
    {
      "cell_type": "markdown",
      "metadata": {
        "id": "tK5oDi2_bRFD"
      },
      "source": [
        "# **Importing Libraries**\n",
        "Feel free to import any additional libraries required"
      ]
    },
    {
      "cell_type": "code",
      "execution_count": null,
      "metadata": {
        "id": "tDaWKbPibNj1"
      },
      "outputs": [],
      "source": [
        "# Import all libraries here \n",
        "import numpy as np \n",
        "import time \n",
        "import matplotlib.pyplot as plt \n",
        "\n",
        "N=1000\n",
        "M=np.random.random((N,N))\n",
        "w=np.random.random(N)\n"
      ]
    },
    {
      "cell_type": "markdown",
      "metadata": {
        "id": "M0kNSQmBYip0"
      },
      "source": [
        "\n",
        "In this problem, we will explore the concept of vectorising processes. Hence, we will focus upon eliminating as many for loops as possible and compare performance with and without for loops using python libraries.\n",
        "We will be computing\n",
        "\\begin{equation}\n",
        "s = \\sum_{i=1}^{N}w.v[i]\n",
        "\\end{equation}\n",
        "for a given matrix \n",
        "\\begin{equation}\n",
        "M = [v(1)\\text{  }v(2){}_{\\cdots}\\text{  }v(N)]\n",
        "\\end{equation}\n",
        "\n",
        "In the function : \\\\\n",
        "1. iterative_mult(w) : Iteratively multiply the row vector w with each of the columns of the matrix M (using a for loop), and return the addition of all results.\n",
        "2. matrix_mult(w) : Multiply the row vector w with the matrix M and add the resulting columns using a function of the numpy library.\n",
        "3. comparison(w) : Call the previous two functions here and measure the time taken in each of them using a python library. Store the times in variables time_iterative, time_matrix."
      ]
    },
    {
      "cell_type": "code",
      "execution_count": null,
      "metadata": {
        "id": "k8IPZ0BmVpKv"
      },
      "outputs": [],
      "source": [
        "\n",
        "class Tester : \n",
        "\n",
        "  def __init__(self, M) :  \n",
        "    self.M = np.array(M)\n",
        "\n",
        "  def iterative_mult(self , w) :\n",
        "      s = 0\n",
        "      for i in range(len(w)):\n",
        "            col_sum = 0\n",
        "            for j in range(len(w)):\n",
        "                col_sum += w[j] * self.M[j, i]\n",
        "            s += col_sum\n",
        "      return s\n",
        "  \n",
        "\n",
        "\n",
        "  def matrix_mult(self , w) :\n",
        "     return np.sum(w*self.M,axis=0)\n",
        "  \n",
        "   \n",
        "    \n",
        "\n",
        "  def comparison(self,w):\n",
        "        time_iterative_start = time.time()\n",
        "        result_iterative = self.iterative_mult(w)\n",
        "        time_iterative_end = time.time()\n",
        "        time_iterative = time_iterative_end - time_iterative_start\n",
        "\n",
        "        time_matrix_start = time.time()\n",
        "        result_matrix = self.matrix_mult(w)\n",
        "        time_matrix_end = time.time()\n",
        "        time_matrix = time_matrix_end - time_matrix_start\n",
        "\n",
        "        print(f'Time taken by iterative method : {time_iterative}\\nTime taken by matrix method : {time_matrix}')\n",
        "\n",
        "        return time_iterative, time_matrix\n",
        "\n",
        "tester=Tester(M)\n",
        "tester.comparision(w)"
      ]
    },
    {
      "cell_type": "markdown",
      "metadata": {
        "id": "4onzhV4KcSAI"
      },
      "source": [
        "Now that we have created a tester class with some basic functionality of performance analysis, we will plot the time taken in both the methods of computing the required quantity. That is, given a row vector w, we want to compute :              \n",
        "\n",
        "\\begin{equation}\n",
        "s = \\sum_{i=1}^{N}w.v(i)\n",
        "\\end{equation}\n",
        "For this purpose, we will use the matplotlib library in python. "
      ]
    },
    {
      "cell_type": "code",
      "execution_count": null,
      "metadata": {
        "id": "AUvkFgHxftZ_"
      },
      "outputs": [],
      "source": [
        "w = np.random.randn(1, 100)\n",
        "results = []\n",
        "max_pow = 5\n",
        "average_time_iterative,average_time_matrix=0.0,0.0\n",
        "\n",
        "\n",
        "for i in range(max_pow):\n",
        "    # Create a random matrix M of size 10^i x 100\n",
        "    M_size = 10**i\n",
        "    M = np.random.random((M_size,100))\n",
        "    tester=Tester(M)\n",
        "\n",
        "    # Compute the times using the Tester object\n",
        "    time_iterative, time_matrix = tester.comparison(w)\n",
        "    average_time_iterative+=time_iterative\n",
        "    average_time_matrix+=time_matrix\n",
        "    \n",
        "   \n",
        "\n",
        "    # Append the times to the results array\n",
        "    results.append((M_size, time_iterative, time_matrix))\n",
        "speedup_factor = average_time_iterative/ average_time_matrix\n",
        "print(f\"matrix multiplication is faster by a factor of : {speedup_factor}\")\n",
        "# Plot the line graph\n",
        "results = np.array(results)\n",
        "plt.plot(results[:, 0], results[:, 1], label='Iterative Method')\n",
        "plt.plot(results[:, 0], results[:, 2], label='Matrix Method')\n",
        "plt.xscale('log')  # Set logarithmic scale for better visualization\n",
        "plt.xlabel('Matrix Size (N)')\n",
        "plt.ylabel('Time(nanoseconds) ')\n",
        "plt.title('Comparison of Iterative and Matrix Methods')\n",
        "plt.legend()\n",
        "plt.show()\n",
        "\n",
        " \n"
      ]
    },
    {
      "cell_type": "markdown",
      "metadata": {
        "id": "n_tp5arYsWN9"
      },
      "source": [
        "# **Observations**\n",
        "\n",
        "Now that we have successfully plotted the graphs, you can comment on the differences in the two times of computation. Please write your observations in the text box provided below. Make sure to note down the following : \\\\\n",
        "1. The approximate order of times obtained in the two processes (s/ms/$\\mu$s/ns)\n",
        "2. The method which results in lower computation times and by what factor\n",
        "3. Some possible explanation for your observation (after some googling perhaps)"
      ]
    },
    {
      "cell_type": "markdown",
      "metadata": {
        "id": "kTQfyDLxtq01"
      },
      "source": [
        "Insert observations here (double-click to edit the cell)\n",
        "matrix_mult is faster than iterative_mult by factor of speedup_factor(depending on the size of matrix)\n",
        "The reasons can be--\n",
        "Vectorized Operation: The matrix_mult method uses NumPy's vectorized operations, which are highly optimized and performed in C. These operations are much faster than explicitly nested loops in Python.\n",
        "\n",
        "Efficient Implementation: NumPy is optimized for numerical operations and is implemented in C and Fortran. It leverages highly efficient libraries (such as BLAS and LAPACK) for linear algebra operations, making it faster than Python loops.\n",
        "\n",
        "Parallelization: NumPy operations can take advantage of parallelization on multi-core processors, leading to additional speed improvements.\n"
      ]
    },
    {
      "cell_type": "markdown",
      "metadata": {
        "id": "dIH2wqFnpfHj"
      },
      "source": [
        "# *Problem 2*\n",
        "\n",
        "In this assignment, you will be loading the famous [MNIST](http://yann.lecun.com/exdb/mnist/) dataset (a large dataset of hand-written images of numbers) from a *CSV* (comma separated values) file and performing various operations on them. \n",
        "\n",
        "Enjoy!\n",
        "\n",
        "\n"
      ]
    },
    {
      "cell_type": "markdown",
      "metadata": {
        "id": "gynBLuybpt0N"
      },
      "source": [
        "\n",
        "<img src=\"https://journaldev.nyc3.digitaloceanspaces.com/2020/10/mnist-dataset.png\"\n",
        " style=\"float:right;width:50px;height:50px;\">"
      ]
    },
    {
      "cell_type": "markdown",
      "metadata": {},
      "source": [
        "# **Loading Data**\n",
        "Let's start by loading the csv file in the main repo. Figure out how to load a file onto Google Colab (or whichever notebook you're using). The data can be downloaded from [here](https://drive.google.com/file/d/1p-rZZRrdbK05uIwRvwnkinpJI5o2griD/view?usp=share_link)\n"
      ]
    },
    {
      "cell_type": "code",
      "execution_count": null,
      "metadata": {
        "id": "kPt2MwMDp2n8"
      },
      "outputs": [],
      "source": [
        "# Insert code to load the csv file into the notebook\n",
        "\n"
      ]
    },
    {
      "cell_type": "markdown",
      "metadata": {
        "id": "M_OrOB1_p4Gv"
      },
      "source": [
        "# **Reading from a CSV File**\n",
        "Now, let's read the values from the csv file! If you were to look into the file, you would see that each row has a long list of numbers, with the first column having numbers between **$0$ and $9$**, and the remaining columns having values from **$0$ to $255$** (make any sense?)\n",
        "\n",
        "Feel free to store the data in any way you want, to set up future operations with those rows (you might want to read the following tasks before deciding how you would store this data, if it helps). \n",
        "\n",
        "Also, make use of the `csv` module to read csv files. There are many other ways, but this should do for this assignment at least."
      ]
    },
    {
      "cell_type": "code",
      "execution_count": null,
      "metadata": {
        "id": "Hlw5xlGvp-aW"
      },
      "outputs": [],
      "source": [
        "# Insert code to store the contents of the file in a variable (or many variables, if you want)\n",
        "\n",
        "\n"
      ]
    },
    {
      "cell_type": "markdown",
      "metadata": {
        "id": "le_5vpHDqCca"
      },
      "source": [
        "# **Organising Data**\n",
        "\n",
        "If you didn't figure out what the first column was supposed to be, no worries : they are the labels of the corresponding images. The remaining $784$ columns ($28 \\times 28$) correspond to the *gray-scale pixel values* of the $784$ pixels present in each image of a number.\n",
        "\n",
        "For example, the first row in the dataset has a label of $7$, signifying that the next $784$ values correspond to an image of the number $7$. These $784$ pixels are ordered **row-wise**, so the first $28$ are for the first row, the next $28$ for the second, and so on.\n",
        "\n",
        "Your tasks are the following : \n",
        "\n",
        "* Separate out the first column of values and store them separately as labels, you'll need them later\n",
        "\n",
        "* Once you're done with that, reshape the rows (after the removal of the labels) into matrices with dimension $28 \\times 28$ (If you've learnt *anything* from the first assignment, it should be to avoid using loops as much as possible, so think of, or search for, an inbuilt function that can reshape a matrix)\n",
        "\n",
        "**Note** : Just like vectors have a *depth* of $1$ and matrices have a *depth* of $2$, `NumPy` supports objects that can have a *depth* greater than $2$. \n",
        "\n",
        "This generalisation can be thought of as a **Tensor**, and the *depth* is called the *rank* or the *order* of the Tensor. If you've stored your initial data as a matrix, try and reshape it into a tensor of rank $3$, for the second task."
      ]
    },
    {
      "cell_type": "code",
      "execution_count": null,
      "metadata": {
        "id": "FVTpVOILqFsg"
      },
      "outputs": [],
      "source": [
        "# Write your code here\n",
        "\n",
        "\n"
      ]
    },
    {
      "cell_type": "markdown",
      "metadata": {
        "id": "etE1DamBqJ2D"
      },
      "source": [
        "# **Plotting images**\n",
        "Now that you have the data, in the form we want it in, go ahead and plot the first image! (Google it!)"
      ]
    },
    {
      "cell_type": "code",
      "execution_count": null,
      "metadata": {
        "id": "u5JakJ_PqMZ9"
      },
      "outputs": [],
      "source": [
        "# Write your code here\n",
        "\n"
      ]
    },
    {
      "cell_type": "markdown",
      "metadata": {
        "id": "WNmWhDN-qP-j"
      },
      "source": [
        "# **Grouping Images**\n",
        "\n",
        "Let's try and group those images together, based on their labels. This is slightly (maybe more than slightly) harder to understand (just using inbuilt functions), but the objective is the same : To try and minimise the number of iterations performed outside of NumPy\n",
        "\n",
        "Hint : You could also do this with $10$ iterations, which is the number of digits, and with $60000$ iterations, which is the number of images we have, so if you can't find any way without loops, try to find a way with $10$ iterations rather than $60000$"
      ]
    },
    {
      "cell_type": "code",
      "execution_count": null,
      "metadata": {
        "id": "Loxdwb-TqQ5O"
      },
      "outputs": [],
      "source": [
        "# Write your code here\n",
        "\n"
      ]
    },
    {
      "cell_type": "markdown",
      "metadata": {
        "id": "TQrWoJw9qU9I"
      },
      "source": [
        "# **Computing Mean Images**\n",
        "\n",
        "Now that we have our data grouped, let's try to calculate the mean of the images corresponding to a particular label.\n",
        "\n",
        "Don't forget to plot all of them!"
      ]
    },
    {
      "cell_type": "code",
      "execution_count": null,
      "metadata": {
        "id": "Dp8jlsfOqWOk"
      },
      "outputs": [],
      "source": [
        "# Write your code here for an array of 10 images, each representing the mean image of a number from 0 to 9, in order. Also plot them!\n",
        "\n"
      ]
    },
    {
      "cell_type": "markdown",
      "metadata": {
        "id": "jYwZ3wlVt8eq"
      },
      "source": [
        "# **Submission**\n",
        "\n",
        "Please upload the edited version of this notebook in the github classroom, with your file labelled as \\<roll_number\\>_week0.ipynb"
      ]
    }
  ],
  "metadata": {
    "colab": {
      "provenance": []
    },
    "kernelspec": {
      "display_name": "Python 3",
      "name": "python3"
    },
    "language_info": {
      "codemirror_mode": {
        "name": "ipython",
        "version": 3
      },
      "file_extension": ".py",
      "mimetype": "text/x-python",
      "name": "python",
      "nbconvert_exporter": "python",
      "pygments_lexer": "ipython3",
      "version": "3.12.1"
    }
  },
  "nbformat": 4,
  "nbformat_minor": 0
}
